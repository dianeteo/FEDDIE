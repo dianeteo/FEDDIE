{
 "cells": [
  {
   "cell_type": "markdown",
   "id": "eb04f62f",
   "metadata": {},
   "source": [
    "## 1. Loading the Model"
   ]
  },
  {
   "cell_type": "code",
   "execution_count": 28,
   "id": "74e1eb19",
   "metadata": {},
   "outputs": [],
   "source": [
    "import json\n",
    "import torch\n",
    "import copy\n",
    "import numpy as np\n",
    "import pandas as pd\n",
    "\n",
    "from torch.utils.data import DataLoader, TensorDataset, random_split, DataLoader, Subset\n",
    "from sklearn.model_selection import train_test_split\n",
    "from datasets import Dataset\n",
    "\n",
    "from transformers import AutoTokenizer, RobertaForSequenceClassification, AdamW\n",
    "\n",
    "import matplotlib.pyplot as plt"
   ]
  },
  {
   "cell_type": "markdown",
   "id": "05cc1f3d",
   "metadata": {},
   "source": []
  },
  {
   "cell_type": "code",
   "execution_count": 2,
   "id": "b4116f89",
   "metadata": {},
   "outputs": [],
   "source": [
    "# # Load model directly\n",
    "# tokenizer = AutoTokenizer.from_pretrained(\"FacebookAI/roberta-large\")\n",
    "# model = RobertaForSequenceClassification.from_pretrained(\"FacebookAI/roberta-large\", num_labels=3)"
   ]
  },
  {
   "cell_type": "code",
   "execution_count": 3,
   "id": "861c28b3",
   "metadata": {},
   "outputs": [],
   "source": [
    "# model.save_pretrained(\"./saved_roberta_model\")\n",
    "# tokenizer.save_pretrained(\"./saved_roberta_model\")"
   ]
  },
  {
   "cell_type": "code",
   "execution_count": 4,
   "id": "eb163606",
   "metadata": {},
   "outputs": [],
   "source": [
    "# tokenizer = AutoTokenizer.from_pretrained(\"./saved_roberta_model\")\n",
    "# model = RobertaForSequenceClassification.from_pretrained(\"./saved_roberta_model\", torch_dtype=torch.float16, device_map=\"cuda\")"
   ]
  },
  {
   "cell_type": "code",
   "execution_count": 5,
   "id": "a2a5100f",
   "metadata": {},
   "outputs": [
    {
     "name": "stderr",
     "output_type": "stream",
     "text": [
      "Some weights of RobertaForSequenceClassification were not initialized from the model checkpoint at roberta-base and are newly initialized: ['classifier.dense.bias', 'classifier.dense.weight', 'classifier.out_proj.bias', 'classifier.out_proj.weight']\n",
      "You should probably TRAIN this model on a down-stream task to be able to use it for predictions and inference.\n"
     ]
    }
   ],
   "source": [
    "tokenizer = AutoTokenizer.from_pretrained(\"roberta-base\")\n",
    "model = RobertaForSequenceClassification.from_pretrained(\"roberta-base\", num_labels=3)"
   ]
  },
  {
   "cell_type": "code",
   "execution_count": 6,
   "id": "3ea8df99",
   "metadata": {},
   "outputs": [
    {
     "data": {
      "text/plain": [
       "('./saved_roberta_base_model\\\\tokenizer_config.json',\n",
       " './saved_roberta_base_model\\\\special_tokens_map.json',\n",
       " './saved_roberta_base_model\\\\vocab.json',\n",
       " './saved_roberta_base_model\\\\merges.txt',\n",
       " './saved_roberta_base_model\\\\added_tokens.json',\n",
       " './saved_roberta_base_model\\\\tokenizer.json')"
      ]
     },
     "execution_count": 6,
     "metadata": {},
     "output_type": "execute_result"
    }
   ],
   "source": [
    "model.save_pretrained(\"./saved_roberta_base_model\")\n",
    "tokenizer.save_pretrained(\"./saved_roberta_base_model\")"
   ]
  },
  {
   "cell_type": "code",
   "execution_count": 7,
   "id": "34494c64",
   "metadata": {},
   "outputs": [],
   "source": [
    "tokenizer = AutoTokenizer.from_pretrained(\"./saved_roberta_base_model\")\n",
    "model = RobertaForSequenceClassification.from_pretrained(\"./saved_roberta_base_model\", torch_dtype=torch.float16, device_map=\"cuda\")"
   ]
  },
  {
   "cell_type": "markdown",
   "id": "a4757b54",
   "metadata": {},
   "source": [
    "## 2. Preparing Training Data"
   ]
  },
  {
   "cell_type": "code",
   "execution_count": 8,
   "id": "060dc1ef",
   "metadata": {},
   "outputs": [],
   "source": [
    "# === Load Labeled JSON ===\n",
    "with open(\"data/labeled_sample_sentences.json\", \"r\", encoding=\"utf-8\") as f:\n",
    "    labeled_data = json.load(f)"
   ]
  },
  {
   "cell_type": "code",
   "execution_count": 9,
   "id": "844d2758",
   "metadata": {},
   "outputs": [
    {
     "name": "stdout",
     "output_type": "stream",
     "text": [
      "Total sentences: 5819\n",
      "Label distribution: 0     991\n",
      "1    1277\n",
      "2    3551\n",
      "Name: count, dtype: int64\n"
     ]
    }
   ],
   "source": [
    "# === Flatten & Filter Sentences ===\n",
    "label_map = {\"Hawkish\": 0, \"Dovish\": 1, \"Neutral\": 2}\n",
    "sentences, labels = [], []\n",
    "\n",
    "for entry in labeled_data:\n",
    "    for sentence in entry[\"labeled_sentences\"]:\n",
    "        label = sentence[\"label\"]\n",
    "        if label in label_map:\n",
    "            sentences.append(sentence[\"sentence\"])\n",
    "            labels.append(label_map[sentence[\"label\"]])\n",
    "\n",
    "print(f\"Total sentences: {len(sentences)}\")\n",
    "print(f\"Label distribution: {pd.Series(labels).value_counts().sort_index()}\")\n",
    "\n",
    "# === Convert to Hugging Face Dataset ===\n",
    "dataset = Dataset.from_dict({\n",
    "    \"sentence\": sentences,\n",
    "    \"label\": labels\n",
    "})"
   ]
  },
  {
   "cell_type": "code",
   "execution_count": 10,
   "id": "dca21233",
   "metadata": {},
   "outputs": [],
   "source": [
    "def tokenize_function(example):\n",
    "    return tokenizer(\n",
    "        example[\"sentence\"],\n",
    "        padding=\"max_length\",\n",
    "        truncation=True,\n",
    "        max_length=128,\n",
    "        return_attention_mask=True\n",
    "    )"
   ]
  },
  {
   "cell_type": "code",
   "execution_count": 11,
   "id": "1648e764",
   "metadata": {},
   "outputs": [
    {
     "data": {
      "application/vnd.jupyter.widget-view+json": {
       "model_id": "043bc96e62724e959cdf076cd3c8ed44",
       "version_major": 2,
       "version_minor": 0
      },
      "text/plain": [
       "Map:   0%|          | 0/5819 [00:00<?, ? examples/s]"
      ]
     },
     "metadata": {},
     "output_type": "display_data"
    }
   ],
   "source": [
    "tokenized_dataset = dataset.map(tokenize_function, batched=True)"
   ]
  },
  {
   "cell_type": "code",
   "execution_count": 12,
   "id": "8fddf0f2",
   "metadata": {},
   "outputs": [
    {
     "name": "stdout",
     "output_type": "stream",
     "text": [
      "Original class distribution:\n",
      "label\n",
      "0     991\n",
      "1    1277\n",
      "2    3551\n",
      "Name: count, dtype: int64\n",
      "Sampling 991 from each class...\n",
      "Balanced class distribution:\n",
      "label\n",
      "0    991\n",
      "1    991\n",
      "2    991\n",
      "Name: count, dtype: int64\n"
     ]
    }
   ],
   "source": [
    "# === Balance Classes BEFORE tensor conversion ===\n",
    "df_full = tokenized_dataset.to_pandas()\n",
    "\n",
    "# Check class distribution\n",
    "print(\"Original class distribution:\")\n",
    "print(df_full['label'].value_counts().sort_index())\n",
    "\n",
    "# Sample equal amounts from each class (use minimum class size or a reasonable number)\n",
    "min_samples = min(df_full['label'].value_counts())\n",
    "target_samples = min(min_samples, 991)  # Don't exceed available samples\n",
    "\n",
    "print(f\"Sampling {target_samples} from each class...\")\n",
    "\n",
    "neutral_df = df_full[df_full['label'] == 2].sample(n=target_samples, random_state=42)\n",
    "hawkish_df = df_full[df_full['label'] == 0].sample(n=target_samples, random_state=42)\n",
    "dovish_df = df_full[df_full['label'] == 1].sample(n=target_samples, random_state=42)\n",
    "\n",
    "balanced_df = pd.concat([hawkish_df, dovish_df, neutral_df])\n",
    "balanced_df = balanced_df.sample(frac=1.0, random_state=42).reset_index(drop=True)\n",
    "\n",
    "print(\"Balanced class distribution:\")\n",
    "print(balanced_df['label'].value_counts().sort_index())"
   ]
  },
  {
   "cell_type": "code",
   "execution_count": 13,
   "id": "6296a853",
   "metadata": {},
   "outputs": [
    {
     "name": "stdout",
     "output_type": "stream",
     "text": [
      "Final tensor shapes:\n",
      "Input IDs: torch.Size([2973, 128])\n",
      "Attention Mask: torch.Size([2973, 128])\n",
      "Labels: torch.Size([2973])\n",
      "Train size: 2378, Val size: 595\n"
     ]
    }
   ],
   "source": [
    "# === Convert to PyTorch tensors (ONLY ONCE) ===\n",
    "input_ids = np.array(list(balanced_df[\"input_ids\"]))\n",
    "attention_mask = np.array(list(balanced_df[\"attention_mask\"]))\n",
    "labels = np.array(balanced_df[\"label\"])\n",
    "\n",
    "input_ids_tensor = torch.tensor(input_ids, dtype=torch.long)\n",
    "attention_mask_tensor = torch.tensor(attention_mask, dtype=torch.long)\n",
    "labels_tensor = torch.tensor(labels, dtype=torch.long)\n",
    "\n",
    "print(f\"Final tensor shapes:\")\n",
    "print(f\"Input IDs: {input_ids_tensor.shape}\")\n",
    "print(f\"Attention Mask: {attention_mask_tensor.shape}\")\n",
    "print(f\"Labels: {labels_tensor.shape}\")\n",
    "\n",
    "# === Stratified Split ===\n",
    "indices = np.arange(len(labels_tensor))\n",
    "train_indices, val_indices = train_test_split(\n",
    "    indices, \n",
    "    test_size=0.2, \n",
    "    stratify=labels,  # Use the correct labels array\n",
    "    random_state=42\n",
    ")\n",
    "\n",
    "print(f\"Train size: {len(train_indices)}, Val size: {len(val_indices)}\")"
   ]
  },
  {
   "cell_type": "code",
   "execution_count": 14,
   "id": "0978616c",
   "metadata": {},
   "outputs": [
    {
     "name": "stdout",
     "output_type": "stream",
     "text": [
      "Train set class distribution: 0    793\n",
      "1    793\n",
      "2    792\n",
      "Name: count, dtype: int64\n",
      "Val set class distribution: 0    198\n",
      "1    198\n",
      "2    199\n",
      "Name: count, dtype: int64\n"
     ]
    }
   ],
   "source": [
    "# === Create Datasets and DataLoaders ===\n",
    "full_dataset = TensorDataset(input_ids_tensor, attention_mask_tensor, labels_tensor)\n",
    "train_dataset = Subset(full_dataset, train_indices)\n",
    "val_dataset = Subset(full_dataset, val_indices)\n",
    "\n",
    "train_loader = DataLoader(train_dataset, batch_size=16, shuffle=True)\n",
    "val_loader = DataLoader(val_dataset, batch_size=16)\n",
    "\n",
    "# === Verify split is balanced ===\n",
    "train_labels = labels[train_indices]\n",
    "val_labels = labels[val_indices]\n",
    "print(\"Train set class distribution:\", pd.Series(train_labels).value_counts().sort_index())\n",
    "print(\"Val set class distribution:\", pd.Series(val_labels).value_counts().sort_index())"
   ]
  },
  {
   "cell_type": "markdown",
   "id": "075d632f",
   "metadata": {},
   "source": [
    "### Applying class weights instead of downsampling"
   ]
  },
  {
   "cell_type": "code",
   "execution_count": 15,
   "id": "8202300c",
   "metadata": {},
   "outputs": [],
   "source": [
    "# === Load Labeled JSON ===\n",
    "with open(\"data/labeled_sample_sentences.json\", \"r\", encoding=\"utf-8\") as f:\n",
    "    labeled_data = json.load(f)"
   ]
  },
  {
   "cell_type": "code",
   "execution_count": 16,
   "id": "1d3c588a",
   "metadata": {},
   "outputs": [
    {
     "name": "stdout",
     "output_type": "stream",
     "text": [
      "Total sentences: 5819\n",
      "Label distribution: 0     991\n",
      "1    1277\n",
      "2    3551\n",
      "Name: count, dtype: int64\n"
     ]
    }
   ],
   "source": [
    "# === Flatten & Filter Sentences ===\n",
    "label_map = {\"Hawkish\": 0, \"Dovish\": 1, \"Neutral\": 2}\n",
    "sentences, labels = [], []\n",
    "\n",
    "for entry in labeled_data:\n",
    "    for sentence in entry[\"labeled_sentences\"]:\n",
    "        label = sentence[\"label\"]\n",
    "        if label in label_map:\n",
    "            sentences.append(sentence[\"sentence\"])\n",
    "            labels.append(label_map[sentence[\"label\"]])\n",
    "\n",
    "print(f\"Total sentences: {len(sentences)}\")\n",
    "print(f\"Label distribution: {pd.Series(labels).value_counts().sort_index()}\")\n",
    "\n",
    "# === Convert to Hugging Face Dataset ===\n",
    "dataset = Dataset.from_dict({\n",
    "    \"sentence\": sentences,\n",
    "    \"label\": labels\n",
    "})"
   ]
  },
  {
   "cell_type": "code",
   "execution_count": 17,
   "id": "45a9ddf2",
   "metadata": {},
   "outputs": [
    {
     "data": {
      "application/vnd.jupyter.widget-view+json": {
       "model_id": "65cc3cbfbe0949278b4c112c1d6ebea1",
       "version_major": 2,
       "version_minor": 0
      },
      "text/plain": [
       "Map:   0%|          | 0/5819 [00:00<?, ? examples/s]"
      ]
     },
     "metadata": {},
     "output_type": "display_data"
    }
   ],
   "source": [
    "# === Convert to Hugging Face Dataset ===\n",
    "dataset = Dataset.from_dict({\n",
    "    \"sentence\": sentences,\n",
    "    \"label\": labels\n",
    "})\n",
    "\n",
    "def tokenize_function(example):\n",
    "    return tokenizer(\n",
    "        example[\"sentence\"],\n",
    "        padding=\"max_length\",\n",
    "        truncation=True,\n",
    "        max_length=128,\n",
    "        return_attention_mask=True\n",
    "    )\n",
    "\n",
    "tokenized_dataset = dataset.map(tokenize_function, batched=True)"
   ]
  },
  {
   "cell_type": "code",
   "execution_count": 18,
   "id": "75a006b4",
   "metadata": {},
   "outputs": [
    {
     "name": "stdout",
     "output_type": "stream",
     "text": [
      "Full dataset class distribution:\n",
      "label\n",
      "0     991\n",
      "1    1277\n",
      "2    3551\n",
      "Name: count, dtype: int64\n",
      "Final tensor shapes:\n",
      "Input IDs: torch.Size([5819, 128])\n",
      "Attention Mask: torch.Size([5819, 128])\n",
      "Labels: torch.Size([5819])\n"
     ]
    }
   ],
   "source": [
    "# === Convert to PyTorch tensors (NO DOWNSAMPLING) ===\n",
    "df_full = tokenized_dataset.to_pandas()\n",
    "\n",
    "print(\"Full dataset class distribution:\")\n",
    "print(df_full['label'].value_counts().sort_index())\n",
    "\n",
    "input_ids = np.array(list(df_full[\"input_ids\"]))\n",
    "attention_mask = np.array(list(df_full[\"attention_mask\"]))\n",
    "labels = np.array(df_full[\"label\"])\n",
    "\n",
    "input_ids_tensor = torch.tensor(input_ids, dtype=torch.long)\n",
    "attention_mask_tensor = torch.tensor(attention_mask, dtype=torch.long)\n",
    "labels_tensor = torch.tensor(labels, dtype=torch.long)\n",
    "\n",
    "print(f\"Final tensor shapes:\")\n",
    "print(f\"Input IDs: {input_ids_tensor.shape}\")\n",
    "print(f\"Attention Mask: {attention_mask_tensor.shape}\")\n",
    "print(f\"Labels: {labels_tensor.shape}\")"
   ]
  },
  {
   "cell_type": "code",
   "execution_count": 20,
   "id": "c5bb4ee9",
   "metadata": {},
   "outputs": [
    {
     "name": "stdout",
     "output_type": "stream",
     "text": [
      "Train size: 4655, Val size: 1164\n"
     ]
    }
   ],
   "source": [
    "# === Stratified Split ===\n",
    "indices = np.arange(len(labels_tensor))\n",
    "train_indices, val_indices = train_test_split(\n",
    "    indices, \n",
    "    test_size=0.2, \n",
    "    stratify=labels,  # Maintains class proportions in train/val\n",
    "    random_state=42\n",
    ")\n",
    "\n",
    "print(f\"Train size: {len(train_indices)}, Val size: {len(val_indices)}\")"
   ]
  },
  {
   "cell_type": "code",
   "execution_count": 21,
   "id": "65b16f76",
   "metadata": {},
   "outputs": [
    {
     "name": "stdout",
     "output_type": "stream",
     "text": [
      "Train set class distribution: 0     793\n",
      "1    1021\n",
      "2    2841\n",
      "Name: count, dtype: int64\n",
      "Val set class distribution: 0    198\n",
      "1    256\n",
      "2    710\n",
      "Name: count, dtype: int64\n"
     ]
    }
   ],
   "source": [
    "# === Create Datasets and DataLoaders ===\n",
    "full_dataset = TensorDataset(input_ids_tensor, attention_mask_tensor, labels_tensor)\n",
    "train_dataset = Subset(full_dataset, train_indices)\n",
    "val_dataset = Subset(full_dataset, val_indices)\n",
    "\n",
    "train_loader = DataLoader(train_dataset, batch_size=16, shuffle=True)\n",
    "val_loader = DataLoader(val_dataset, batch_size=16)\n",
    "\n",
    "# === Verify split maintains class proportions ===\n",
    "train_labels = labels[train_indices]\n",
    "val_labels = labels[val_indices]\n",
    "print(\"Train set class distribution:\", pd.Series(train_labels).value_counts().sort_index())\n",
    "print(\"Val set class distribution:\", pd.Series(val_labels).value_counts().sort_index())"
   ]
  },
  {
   "cell_type": "markdown",
   "id": "0420cddc",
   "metadata": {},
   "source": [
    "## 3. Training the Model"
   ]
  },
  {
   "cell_type": "code",
   "execution_count": 26,
   "id": "555b772e",
   "metadata": {},
   "outputs": [
    {
     "data": {
      "text/plain": [
       "RobertaForSequenceClassification(\n",
       "  (roberta): RobertaModel(\n",
       "    (embeddings): RobertaEmbeddings(\n",
       "      (word_embeddings): Embedding(50265, 768, padding_idx=1)\n",
       "      (position_embeddings): Embedding(514, 768, padding_idx=1)\n",
       "      (token_type_embeddings): Embedding(1, 768)\n",
       "      (LayerNorm): LayerNorm((768,), eps=1e-05, elementwise_affine=True)\n",
       "      (dropout): Dropout(p=0.1, inplace=False)\n",
       "    )\n",
       "    (encoder): RobertaEncoder(\n",
       "      (layer): ModuleList(\n",
       "        (0-11): 12 x RobertaLayer(\n",
       "          (attention): RobertaAttention(\n",
       "            (self): RobertaSdpaSelfAttention(\n",
       "              (query): Linear(in_features=768, out_features=768, bias=True)\n",
       "              (key): Linear(in_features=768, out_features=768, bias=True)\n",
       "              (value): Linear(in_features=768, out_features=768, bias=True)\n",
       "              (dropout): Dropout(p=0.1, inplace=False)\n",
       "            )\n",
       "            (output): RobertaSelfOutput(\n",
       "              (dense): Linear(in_features=768, out_features=768, bias=True)\n",
       "              (LayerNorm): LayerNorm((768,), eps=1e-05, elementwise_affine=True)\n",
       "              (dropout): Dropout(p=0.1, inplace=False)\n",
       "            )\n",
       "          )\n",
       "          (intermediate): RobertaIntermediate(\n",
       "            (dense): Linear(in_features=768, out_features=3072, bias=True)\n",
       "            (intermediate_act_fn): GELUActivation()\n",
       "          )\n",
       "          (output): RobertaOutput(\n",
       "            (dense): Linear(in_features=3072, out_features=768, bias=True)\n",
       "            (LayerNorm): LayerNorm((768,), eps=1e-05, elementwise_affine=True)\n",
       "            (dropout): Dropout(p=0.1, inplace=False)\n",
       "          )\n",
       "        )\n",
       "      )\n",
       "    )\n",
       "  )\n",
       "  (classifier): RobertaClassificationHead(\n",
       "    (dense): Linear(in_features=768, out_features=768, bias=True)\n",
       "    (dropout): Dropout(p=0.1, inplace=False)\n",
       "    (out_proj): Linear(in_features=768, out_features=3, bias=True)\n",
       "  )\n",
       ")"
      ]
     },
     "execution_count": 26,
     "metadata": {},
     "output_type": "execute_result"
    }
   ],
   "source": [
    "# set up the optimizer that adapts learning rates for different parameters \n",
    "# [RECALL: w* = w - lambda * (w)^2]\n",
    "optimizer = AdamW(model.parameters(), lr=1e-7, weight_decay=0.01)\n",
    "\n",
    "# put the model on device\n",
    "device = torch.device('cuda')\n",
    "model.to(device)"
   ]
  },
  {
   "cell_type": "code",
   "execution_count": 27,
   "id": "94839268",
   "metadata": {},
   "outputs": [
    {
     "name": "stdout",
     "output_type": "stream",
     "text": [
      "Epoch 1 | Train Loss: 0.8379 | Val Loss: 0.8194\n",
      "Epoch 2 | Train Loss: 0.7908 | Val Loss: 0.7427\n",
      "Epoch 3 | Train Loss: 0.7066 | Val Loss: 0.7057\n",
      "Epoch 4 | Train Loss: 0.5957 | Val Loss: 0.5843\n",
      "Epoch 5 | Train Loss: 0.4504 | Val Loss: 0.5864\n",
      "Epoch 6 | Train Loss: 0.3222 | Val Loss: 0.6633\n",
      "Epoch 7 | Train Loss: 0.2290 | Val Loss: 0.7095\n",
      "Early stopping triggered at epoch 7\n",
      "Best model loaded with val loss: 0.5843\n"
     ]
    },
    {
     "data": {
      "image/png": "[encoded data removed]",
      "text/plain": [
       "<Figure size 640x480 with 1 Axes>"
      ]
     },
     "metadata": {},
     "output_type": "display_data"
    }
   ],
   "source": [
    "# === Early Stopping Configuration ===\n",
    "patience = 3\n",
    "best_val_loss = float('inf')\n",
    "epochs_without_improvement = 0\n",
    "best_model_state = None\n",
    "\n",
    "# === Track losses ===\n",
    "train_losses = []\n",
    "val_losses = []\n",
    "\n",
    "# === Training loop ===\n",
    "epochs = 30  # Set higher value since early stopping is used\n",
    "for epoch in range(epochs):\n",
    "    # === TRAINING ===\n",
    "    model.train()\n",
    "    total_train_loss = 0\n",
    "\n",
    "    for batch in train_loader:\n",
    "        b_input_ids, b_attention_mask, b_labels = [t.to(device) for t in batch]\n",
    "        model.zero_grad()\n",
    "        outputs = model(b_input_ids, attention_mask=b_attention_mask, labels=b_labels)\n",
    "        loss = outputs.loss\n",
    "        total_train_loss += loss.item()\n",
    "        loss.backward()\n",
    "        optimizer.step()\n",
    "\n",
    "    avg_train_loss = total_train_loss / len(train_loader)\n",
    "    train_losses.append(avg_train_loss)\n",
    "\n",
    "    # === VALIDATION ===\n",
    "    model.eval()\n",
    "    total_val_loss = 0\n",
    "\n",
    "    with torch.no_grad():\n",
    "        for batch in val_loader:\n",
    "            b_input_ids, b_attention_mask, b_labels = [t.to(device) for t in batch]\n",
    "            outputs = model(b_input_ids, attention_mask=b_attention_mask, labels=b_labels)\n",
    "            val_loss = outputs.loss\n",
    "            total_val_loss += val_loss.item()\n",
    "\n",
    "    avg_val_loss = total_val_loss / len(val_loader)\n",
    "    val_losses.append(avg_val_loss)\n",
    "\n",
    "    print(f\"Epoch {epoch + 1} | Train Loss: {avg_train_loss:.4f} | Val Loss: {avg_val_loss:.4f}\")\n",
    "\n",
    "    # === Early Stopping Check ===\n",
    "    if avg_val_loss < best_val_loss:\n",
    "        best_val_loss = avg_val_loss\n",
    "        best_model_state = copy.deepcopy(model.state_dict())\n",
    "        epochs_without_improvement = 0\n",
    "    else:\n",
    "        epochs_without_improvement += 1\n",
    "        if epochs_without_improvement >= patience:\n",
    "            print(f\"Early stopping triggered at epoch {epoch + 1}\")\n",
    "            break\n",
    "\n",
    "# === Load Best Model ===\n",
    "if best_model_state is not None:\n",
    "    model.load_state_dict(best_model_state)\n",
    "    print(f\"Best model loaded with val loss: {best_val_loss:.4f}\")\n",
    "\n",
    "# === Save Best Model ===\n",
    "model.save_pretrained(\"./finetuned_roberta_model\")\n",
    "tokenizer.save_pretrained(\"./finetuned_roberta_model\")\n",
    "\n",
    "# === Plot Loss Curve ===\n",
    "plt.plot(train_losses, label='Train Loss', marker='o')\n",
    "plt.plot(val_losses, label='Validation Loss', marker='x')\n",
    "plt.xlabel(\"Epoch\")\n",
    "plt.ylabel(\"Loss\")\n",
    "plt.legend()\n",
    "plt.title(\"Training and Validation Loss Curve\")\n",
    "plt.grid(True)\n",
    "plt.show()"
   ]
  }
 ],
 "metadata": {
  "kernelspec": {
   "display_name": "Python 3",
   "language": "python",
   "name": "python3"
  },
  "language_info": {
   "codemirror_mode": {
    "name": "ipython",
    "version": 3
   },
   "file_extension": ".py",
   "mimetype": "text/x-python",
   "name": "python",
   "nbconvert_exporter": "python",
   "pygments_lexer": "ipython3",
   "version": "3.10.6"
  }
 },
 "nbformat": 4,
 "nbformat_minor": 5
}
