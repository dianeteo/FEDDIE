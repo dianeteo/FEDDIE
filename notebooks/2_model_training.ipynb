{
 "cells": [
  {
   "cell_type": "markdown",
   "id": "eb04f62f",
   "metadata": {},
   "source": [
    "## 1. Loading the Model"
   ]
  },
  {
   "cell_type": "code",
   "execution_count": 1,
   "id": "74e1eb19",
   "metadata": {},
   "outputs": [
    {
     "name": "stderr",
     "output_type": "stream",
     "text": [
      "c:\\Users\\teomi\\Projects\\FEDDIE\\.venv\\lib\\site-packages\\tqdm\\auto.py:21: TqdmWarning: IProgress not found. Please update jupyter and ipywidgets. See https://ipywidgets.readthedocs.io/en/stable/user_install.html\n",
      "  from .autonotebook import tqdm as notebook_tqdm\n"
     ]
    }
   ],
   "source": [
    "import json\n",
    "import torch\n",
    "import copy\n",
    "import time\n",
    "import numpy as np\n",
    "import pandas as pd\n",
    "\n",
    "from torch.utils.data import DataLoader, TensorDataset, random_split, DataLoader, Subset\n",
    "from sklearn.model_selection import train_test_split\n",
    "from datasets import Dataset\n",
    "\n",
    "from transformers import AutoTokenizer, RobertaForSequenceClassification\n",
    "from torch.optim import AdamW\n",
    "\n",
    "import matplotlib.pyplot as plt"
   ]
  },
  {
   "cell_type": "markdown",
   "id": "05cc1f3d",
   "metadata": {},
   "source": [
    "We initially experimented with RoBERTa-large (355M parameters), but due to resource constraints and slow training times, even with GPU acceleration, it was deemed unsuitable for fine-tuning on our dataset. Instead, we adopted RoBERTa-base (125M parameters), which offers a favorable balance between performance and computational efficiency. This choice aligns with prior literature, particularly Shah, Paturi, and Chava (2023), which found RoBERTa-base to be an effective benchmark for sentiment classification in the context of monetary policy.\n",
    "\n",
    "The model was fine-tuned using a labeled dataset of sentences from the FOMC website as well as the CNBC website, and were classified as Hawkish, Dovish, or Neutral. These sentences were labeled and processed individually using the Gemma-2-2b instructional model. We used the Hugging Face Transformers library and trained the model using cross-entropy loss with the AdamW optimizer, experimenting with a range of learning rates and weight decay parameters to prevent overfitting. We found the best learning rate and weight decay parameter - a combination that prevents overfitting to the training set while allowing for convergence with low validation loss - to be:\n",
    "- Learning rate = 5e-7\n",
    "- Weight decay parameter = 0.01\n",
    "\n",
    "To monitor generalisation performance, we implemented early stopping based on validation loss, which allowed the training to halt once performance plateaued. The best-performing model as well as the most generalisable model were saved, achieving a validation loss of 0.5056 and 0.6767 respectively. "
   ]
  },
  {
   "cell_type": "code",
   "execution_count": 2,
   "id": "b4116f89",
   "metadata": {},
   "outputs": [],
   "source": [
    "# # Load model directly\n",
    "# tokenizer = AutoTokenizer.from_pretrained(\"FacebookAI/roberta-large\")\n",
    "# model = RobertaForSequenceClassification.from_pretrained(\"FacebookAI/roberta-large\", num_labels=3)"
   ]
  },
  {
   "cell_type": "code",
   "execution_count": 3,
   "id": "861c28b3",
   "metadata": {},
   "outputs": [],
   "source": [
    "# model.save_pretrained(\"./saved_roberta_model\")\n",
    "# tokenizer.save_pretrained(\"./saved_roberta_model\")"
   ]
  },
  {
   "cell_type": "code",
   "execution_count": 4,
   "id": "eb163606",
   "metadata": {},
   "outputs": [],
   "source": [
    "# tokenizer = AutoTokenizer.from_pretrained(\"./saved_roberta_model\")\n",
    "# model = RobertaForSequenceClassification.from_pretrained(\"./saved_roberta_model\", torch_dtype=torch.float16, device_map=\"cuda\")"
   ]
  },
  {
   "cell_type": "code",
   "execution_count": 13,
   "id": "a2a5100f",
   "metadata": {},
   "outputs": [
    {
     "name": "stderr",
     "output_type": "stream",
     "text": [
      "Some weights of RobertaForSequenceClassification were not initialized from the model checkpoint at roberta-base and are newly initialized: ['classifier.dense.bias', 'classifier.dense.weight', 'classifier.out_proj.bias', 'classifier.out_proj.weight']\n",
      "You should probably TRAIN this model on a down-stream task to be able to use it for predictions and inference.\n"
     ]
    }
   ],
   "source": [
    "device = torch.device(\"cuda\" if torch.cuda.is_available() else \"cpu\")\n",
    "\n",
    "tokenizer = AutoTokenizer.from_pretrained(\"roberta-base\")\n",
    "model = RobertaForSequenceClassification.from_pretrained(\"roberta-base\", num_labels=3)\n",
    "model = model.to(torch.float32).to(device)  # ✅ Make sure model uses float32"
   ]
  },
  {
   "cell_type": "code",
   "execution_count": 14,
   "id": "3ea8df99",
   "metadata": {},
   "outputs": [
    {
     "data": {
      "text/plain": [
       "('../models/saved_roberta_base_model\\\\tokenizer_config.json',\n",
       " '../models/saved_roberta_base_model\\\\special_tokens_map.json',\n",
       " '../models/saved_roberta_base_model\\\\vocab.json',\n",
       " '../models/saved_roberta_base_model\\\\merges.txt',\n",
       " '../models/saved_roberta_base_model\\\\added_tokens.json',\n",
       " '../models/saved_roberta_base_model\\\\tokenizer.json')"
      ]
     },
     "execution_count": 14,
     "metadata": {},
     "output_type": "execute_result"
    }
   ],
   "source": [
    "model.save_pretrained(\"../models/saved_roberta_base_model\")\n",
    "tokenizer.save_pretrained(\"../models/saved_roberta_base_model\")"
   ]
  },
  {
   "cell_type": "code",
   "execution_count": 15,
   "id": "34494c64",
   "metadata": {},
   "outputs": [],
   "source": [
    "tokenizer = AutoTokenizer.from_pretrained(\"../models/saved_roberta_base_model\")\n",
    "model = RobertaForSequenceClassification.from_pretrained(\"../models/saved_roberta_base_model\", torch_dtype=torch.float32, device_map=\"cuda\")"
   ]
  },
  {
   "cell_type": "markdown",
   "id": "a4757b54",
   "metadata": {},
   "source": [
    "## 2. Preparing Training Data"
   ]
  },
  {
   "cell_type": "code",
   "execution_count": 5,
   "id": "8202300c",
   "metadata": {},
   "outputs": [],
   "source": [
    "# === Load Labeled JSON ===\n",
    "labeled_data = []\n",
    "\n",
    "# Load from labeled_sample_sentences.json\n",
    "with open(\"../data/labeled_sample_sentences.json\", \"r\", encoding=\"utf-8\") as f:\n",
    "    labeled_data += json.load(f)\n",
    "\n",
    "# Load from labeled_cnbc_fed_markets.json\n",
    "with open(\"../data/news/labeled_cnbc_fed_markets.json\", \"r\", encoding=\"utf-8\") as f:\n",
    "    labeled_data += json.load(f)"
   ]
  },
  {
   "cell_type": "code",
   "execution_count": 6,
   "id": "1d3c588a",
   "metadata": {},
   "outputs": [
    {
     "name": "stdout",
     "output_type": "stream",
     "text": [
      "Total sentences: 6440\n",
      "Label distribution: 0    1127\n",
      "1    1427\n",
      "2    3886\n",
      "Name: count, dtype: int64\n"
     ]
    }
   ],
   "source": [
    "# === Flatten & Filter Sentences ===\n",
    "label_map = {\"Hawkish\": 0, \"Dovish\": 1, \"Neutral\": 2}\n",
    "sentences, labels = [], []\n",
    "\n",
    "for entry in labeled_data:\n",
    "    for sentence in entry[\"labeled_sentences\"]:\n",
    "        label = sentence[\"label\"]\n",
    "        if label in label_map:\n",
    "            sentences.append(sentence[\"sentence\"])\n",
    "            labels.append(label_map[sentence[\"label\"]])\n",
    "\n",
    "print(f\"Total sentences: {len(sentences)}\")\n",
    "print(f\"Label distribution: {pd.Series(labels).value_counts().sort_index()}\")\n",
    "\n",
    "# === Convert to Hugging Face Dataset ===\n",
    "dataset = Dataset.from_dict({\n",
    "    \"sentence\": sentences,\n",
    "    \"label\": labels\n",
    "})"
   ]
  },
  {
   "cell_type": "code",
   "execution_count": 7,
   "id": "45a9ddf2",
   "metadata": {},
   "outputs": [
    {
     "name": "stderr",
     "output_type": "stream",
     "text": [
      "Map: 100%|██████████| 6440/6440 [00:00<00:00, 13697.67 examples/s]\n"
     ]
    }
   ],
   "source": [
    "# === Convert to Hugging Face Dataset ===\n",
    "dataset = Dataset.from_dict({\n",
    "    \"sentence\": sentences,\n",
    "    \"label\": labels\n",
    "})\n",
    "\n",
    "def tokenize_function(example):\n",
    "    return tokenizer(\n",
    "        example[\"sentence\"],\n",
    "        padding=\"max_length\",\n",
    "        truncation=True,\n",
    "        max_length=128,\n",
    "        return_attention_mask=True\n",
    "    )\n",
    "\n",
    "tokenized_dataset = dataset.map(tokenize_function, batched=True)"
   ]
  },
  {
   "cell_type": "code",
   "execution_count": 8,
   "id": "75a006b4",
   "metadata": {},
   "outputs": [
    {
     "name": "stdout",
     "output_type": "stream",
     "text": [
      "Full dataset class distribution:\n",
      "label\n",
      "0    1127\n",
      "1    1427\n",
      "2    3886\n",
      "Name: count, dtype: int64\n",
      "Final tensor shapes:\n",
      "Input IDs: torch.Size([6440, 128])\n",
      "Attention Mask: torch.Size([6440, 128])\n",
      "Labels: torch.Size([6440])\n"
     ]
    }
   ],
   "source": [
    "# === Convert to PyTorch tensors (NO DOWNSAMPLING) ===\n",
    "df_full = tokenized_dataset.to_pandas()\n",
    "\n",
    "print(\"Full dataset class distribution:\")\n",
    "print(df_full['label'].value_counts().sort_index())\n",
    "\n",
    "input_ids = np.array(list(df_full[\"input_ids\"]))\n",
    "attention_mask = np.array(list(df_full[\"attention_mask\"]))\n",
    "labels = np.array(df_full[\"label\"])\n",
    "\n",
    "input_ids_tensor = torch.tensor(input_ids, dtype=torch.long)\n",
    "attention_mask_tensor = torch.tensor(attention_mask, dtype=torch.long)\n",
    "labels_tensor = torch.tensor(labels, dtype=torch.long)\n",
    "\n",
    "print(f\"Final tensor shapes:\")\n",
    "print(f\"Input IDs: {input_ids_tensor.shape}\")\n",
    "print(f\"Attention Mask: {attention_mask_tensor.shape}\")\n",
    "print(f\"Labels: {labels_tensor.shape}\")"
   ]
  },
  {
   "cell_type": "code",
   "execution_count": 9,
   "id": "c5bb4ee9",
   "metadata": {},
   "outputs": [
    {
     "name": "stdout",
     "output_type": "stream",
     "text": [
      "Train size: 5152, Val size: 1288\n"
     ]
    }
   ],
   "source": [
    "# === Stratified Split ===\n",
    "indices = np.arange(len(labels_tensor))\n",
    "train_indices, val_indices = train_test_split(\n",
    "    indices, \n",
    "    test_size=0.2, \n",
    "    stratify=labels,  # Maintains class proportions in train/val\n",
    "    random_state=42\n",
    ")\n",
    "\n",
    "print(f\"Train size: {len(train_indices)}, Val size: {len(val_indices)}\")"
   ]
  },
  {
   "cell_type": "code",
   "execution_count": 10,
   "id": "65b16f76",
   "metadata": {},
   "outputs": [
    {
     "name": "stdout",
     "output_type": "stream",
     "text": [
      "Train set class distribution: 0     901\n",
      "1    1142\n",
      "2    3109\n",
      "Name: count, dtype: int64\n",
      "Val set class distribution: 0    226\n",
      "1    285\n",
      "2    777\n",
      "Name: count, dtype: int64\n"
     ]
    }
   ],
   "source": [
    "# === Create Datasets and DataLoaders ===\n",
    "full_dataset = TensorDataset(input_ids_tensor, attention_mask_tensor, labels_tensor)\n",
    "train_dataset = Subset(full_dataset, train_indices)\n",
    "val_dataset = Subset(full_dataset, val_indices)\n",
    "\n",
    "train_loader = DataLoader(train_dataset, batch_size=16, shuffle=True)\n",
    "val_loader = DataLoader(val_dataset, batch_size=16)\n",
    "\n",
    "# === Verify split maintains class proportions ===\n",
    "train_labels = labels[train_indices]\n",
    "val_labels = labels[val_indices]\n",
    "print(\"Train set class distribution:\", pd.Series(train_labels).value_counts().sort_index())\n",
    "print(\"Val set class distribution:\", pd.Series(val_labels).value_counts().sort_index())"
   ]
  },
  {
   "cell_type": "markdown",
   "id": "0420cddc",
   "metadata": {},
   "source": [
    "## 3. Training the Model"
   ]
  },
  {
   "cell_type": "code",
   "execution_count": 11,
   "id": "555b772e",
   "metadata": {},
   "outputs": [
    {
     "data": {
      "text/plain": [
       "RobertaForSequenceClassification(\n",
       "  (roberta): RobertaModel(\n",
       "    (embeddings): RobertaEmbeddings(\n",
       "      (word_embeddings): Embedding(50265, 768, padding_idx=1)\n",
       "      (position_embeddings): Embedding(514, 768, padding_idx=1)\n",
       "      (token_type_embeddings): Embedding(1, 768)\n",
       "      (LayerNorm): LayerNorm((768,), eps=1e-05, elementwise_affine=True)\n",
       "      (dropout): Dropout(p=0.1, inplace=False)\n",
       "    )\n",
       "    (encoder): RobertaEncoder(\n",
       "      (layer): ModuleList(\n",
       "        (0-11): 12 x RobertaLayer(\n",
       "          (attention): RobertaAttention(\n",
       "            (self): RobertaSdpaSelfAttention(\n",
       "              (query): Linear(in_features=768, out_features=768, bias=True)\n",
       "              (key): Linear(in_features=768, out_features=768, bias=True)\n",
       "              (value): Linear(in_features=768, out_features=768, bias=True)\n",
       "              (dropout): Dropout(p=0.1, inplace=False)\n",
       "            )\n",
       "            (output): RobertaSelfOutput(\n",
       "              (dense): Linear(in_features=768, out_features=768, bias=True)\n",
       "              (LayerNorm): LayerNorm((768,), eps=1e-05, elementwise_affine=True)\n",
       "              (dropout): Dropout(p=0.1, inplace=False)\n",
       "            )\n",
       "          )\n",
       "          (intermediate): RobertaIntermediate(\n",
       "            (dense): Linear(in_features=768, out_features=3072, bias=True)\n",
       "            (intermediate_act_fn): GELUActivation()\n",
       "          )\n",
       "          (output): RobertaOutput(\n",
       "            (dense): Linear(in_features=3072, out_features=768, bias=True)\n",
       "            (LayerNorm): LayerNorm((768,), eps=1e-05, elementwise_affine=True)\n",
       "            (dropout): Dropout(p=0.1, inplace=False)\n",
       "          )\n",
       "        )\n",
       "      )\n",
       "    )\n",
       "  )\n",
       "  (classifier): RobertaClassificationHead(\n",
       "    (dense): Linear(in_features=768, out_features=768, bias=True)\n",
       "    (dropout): Dropout(p=0.1, inplace=False)\n",
       "    (out_proj): Linear(in_features=768, out_features=3, bias=True)\n",
       "  )\n",
       ")"
      ]
     },
     "execution_count": 11,
     "metadata": {},
     "output_type": "execute_result"
    }
   ],
   "source": [
    "# set up the optimizer that adapts learning rates for different parameters \n",
    "# [RECALL: w* = w - lambda * (w)^2]\n",
    "# optimizer = AdamW(model.parameters(), lr=1e-7, weight_decay=0.01)\n",
    "optimizer = AdamW(model.parameters(), lr=5e-7, weight_decay=0.01)\n",
    "\n",
    "# put the model on device\n",
    "device = torch.device('cuda')\n",
    "model.to(device)"
   ]
  },
  {
   "cell_type": "code",
   "execution_count": null,
   "id": "94839268",
   "metadata": {},
   "outputs": [
    {
     "name": "stdout",
     "output_type": "stream",
     "text": [
      "Epoch 1 | Train Loss: 1.0572 | Val Loss: 1.0487 | Duration: 2.57 min\n",
      "Epoch 2 | Train Loss: 1.0355 | Val Loss: 1.0269 | Duration: 2.59 min\n",
      "Epoch 3 | Train Loss: 1.0099 | Val Loss: 0.9893 | Duration: 2.65 min\n",
      "Epoch 4 | Train Loss: 0.9588 | Val Loss: 0.9091 | Duration: 2.80 min\n",
      "Epoch 5 | Train Loss: 0.8960 | Val Loss: 0.8643 | Duration: 6.70 min\n",
      "Epoch 6 | Train Loss: 0.8677 | Val Loss: 0.8464 | Duration: 2.59 min\n",
      "Epoch 7 | Train Loss: 0.8612 | Val Loss: 0.8337 | Duration: 2.79 min\n",
      "Epoch 8 | Train Loss: 0.8472 | Val Loss: 0.8240 | Duration: 7.14 min\n",
      "Epoch 9 | Train Loss: 0.8374 | Val Loss: 0.8153 | Duration: 8.61 min\n",
      "Epoch 10 | Train Loss: 0.8301 | Val Loss: 0.8077 | Duration: 2.58 min\n",
      "Epoch 11 | Train Loss: 0.8201 | Val Loss: 0.8010 | Duration: 2.64 min\n",
      "Epoch 12 | Train Loss: 0.8158 | Val Loss: 0.7948 | Duration: 2.73 min\n",
      "Epoch 13 | Train Loss: 0.8050 | Val Loss: 0.7890 | Duration: 2.79 min\n",
      "Epoch 14 | Train Loss: 0.7942 | Val Loss: 0.7839 | Duration: 2.77 min\n",
      "Epoch 15 | Train Loss: 0.7908 | Val Loss: 0.7781 | Duration: 2.80 min\n",
      "Epoch 16 | Train Loss: 0.7886 | Val Loss: 0.7728 | Duration: 2.72 min\n",
      "Epoch 17 | Train Loss: 0.7792 | Val Loss: 0.7698 | Duration: 2.71 min\n",
      "Epoch 18 | Train Loss: 0.7720 | Val Loss: 0.7658 | Duration: 2.73 min\n",
      "Epoch 19 | Train Loss: 0.7690 | Val Loss: 0.7634 | Duration: 2.62 min\n",
      "Epoch 20 | Train Loss: 0.7671 | Val Loss: 0.7580 | Duration: 2.62 min\n",
      "Epoch 21 | Train Loss: 0.7564 | Val Loss: 0.7557 | Duration: 2.61 min\n",
      "Epoch 22 | Train Loss: 0.7483 | Val Loss: 0.7541 | Duration: 2.61 min\n",
      "Epoch 23 | Train Loss: 0.7459 | Val Loss: 0.7458 | Duration: 2.61 min\n",
      "Epoch 24 | Train Loss: 0.7415 | Val Loss: 0.7427 | Duration: 2.62 min\n",
      "Epoch 25 | Train Loss: 0.7346 | Val Loss: 0.7407 | Duration: 2.62 min\n",
      "Epoch 26 | Train Loss: 0.7321 | Val Loss: 0.7334 | Duration: 2.62 min\n",
      "Epoch 27 | Train Loss: 0.7277 | Val Loss: 0.7310 | Duration: 2.62 min\n",
      "Epoch 28 | Train Loss: 0.7219 | Val Loss: 0.7296 | Duration: 2.64 min\n",
      "Epoch 29 | Train Loss: 0.7147 | Val Loss: 0.7257 | Duration: 2.62 min\n",
      "Epoch 30 | Train Loss: 0.7092 | Val Loss: 0.7178 | Duration: 2.61 min\n",
      "Best model loaded with val loss: 0.7178\n"
     ]
    },
    {
     "data": {
      "image/png": "[encoded data removed]",
      "text/plain": [
       "<Figure size 640x480 with 1 Axes>"
      ]
     },
     "metadata": {},
     "output_type": "display_data"
    }
   ],
   "source": [
    "# # === Early Stopping Configuration ===\n",
    "# patience = 3\n",
    "# best_val_loss = float('inf')\n",
    "# epochs_without_improvement = 0\n",
    "# best_model_state = None\n",
    "\n",
    "# # === Track losses ===\n",
    "# train_losses = []\n",
    "# val_losses = []\n",
    "\n",
    "# # === Training loop ===\n",
    "# epochs = 30  # Set higher value since early stopping is used\n",
    "# for epoch in range(epochs):\n",
    "#     start_time = time.time()\n",
    "\n",
    "#     # === TRAINING ===\n",
    "#     model.train()\n",
    "#     total_train_loss = 0\n",
    "\n",
    "#     for batch in train_loader:\n",
    "#         b_input_ids, b_attention_mask, b_labels = [t.to(device) for t in batch]\n",
    "#         model.zero_grad()\n",
    "\n",
    "#         outputs = model(b_input_ids, attention_mask=b_attention_mask, labels=b_labels)\n",
    "#         loss = outputs.loss\n",
    "\n",
    "#         # Safely detach loss for logging\n",
    "#         loss_val = loss.detach().item()\n",
    "#         total_train_loss += loss_val\n",
    "\n",
    "#         loss.backward()\n",
    "#         # Clip gradients to prevent exploding gradients\n",
    "#         torch.nn.utils.clip_grad_norm_(model.parameters(), max_norm=1.0)\n",
    "#         optimizer.step()\n",
    "\n",
    "#     avg_train_loss = total_train_loss / len(train_loader)\n",
    "#     train_losses.append(avg_train_loss)\n",
    "\n",
    "#     # === VALIDATION ===\n",
    "#     model.eval()\n",
    "#     total_val_loss = 0\n",
    "\n",
    "#     with torch.no_grad():\n",
    "#         for batch in val_loader:\n",
    "#             b_input_ids, b_attention_mask, b_labels = [t.to(device) for t in batch]\n",
    "#             outputs = model(b_input_ids, attention_mask=b_attention_mask, labels=b_labels)\n",
    "#             val_loss = outputs.loss\n",
    "#             total_val_loss += val_loss.item()\n",
    "\n",
    "#     avg_val_loss = total_val_loss / len(val_loader)\n",
    "#     val_losses.append(avg_val_loss)\n",
    "\n",
    "#     end_time = time.time()\n",
    "#     epoch_duration = (end_time - start_time) / 60\n",
    "\n",
    "#     print(f\"Epoch {epoch + 1} | Train Loss: {avg_train_loss:.4f} | Val Loss: {avg_val_loss:.4f} | Duration: {epoch_duration:.2f} min\")\n",
    "\n",
    "#     # === Early Stopping Check ===\n",
    "#     if avg_val_loss < best_val_loss:\n",
    "#         best_val_loss = avg_val_loss\n",
    "#         best_model_state = copy.deepcopy(model.state_dict())\n",
    "#         epochs_without_improvement = 0\n",
    "#     else:\n",
    "#         epochs_without_improvement += 1\n",
    "#         if epochs_without_improvement >= patience:\n",
    "#             print(f\"Early stopping triggered at epoch {epoch + 1}\")\n",
    "#             break\n",
    "\n",
    "# # === Load Best Model ===\n",
    "# if best_model_state is not None:\n",
    "#     model.load_state_dict(best_model_state)\n",
    "#     print(f\"Best model loaded with val loss: {best_val_loss:.4f}\")\n",
    "\n",
    "# # === Save Best Model ===\n",
    "# model.save_pretrained(\"./finetuned_roberta_model_2\")\n",
    "# tokenizer.save_pretrained(\"./finetuned_roberta_model_2\")\n",
    "\n",
    "# # === Plot Loss Curve ===\n",
    "# plt.plot(train_losses, label='Train Loss', marker='o')\n",
    "# plt.plot(val_losses, label='Validation Loss', marker='x')\n",
    "# plt.xlabel(\"Epoch\")\n",
    "# plt.ylabel(\"Loss\")\n",
    "# plt.legend()\n",
    "# plt.title(\"Training and Validation Loss Curve\")\n",
    "# plt.grid(True)\n",
    "# plt.show()"
   ]
  },
  {
   "cell_type": "code",
   "execution_count": null,
   "id": "237d2403",
   "metadata": {},
   "outputs": [
    {
     "name": "stdout",
     "output_type": "stream",
     "text": [
      "Epoch 1 | Train Loss: 1.0198 | Val Loss: 0.8718 | Duration: 2.58 min\n",
      "Epoch 2 | Train Loss: 0.8485 | Val Loss: 0.8021 | Duration: 2.59 min\n",
      "Epoch 3 | Train Loss: 0.8111 | Val Loss: 0.7737 | Duration: 2.59 min\n",
      "Epoch 4 | Train Loss: 0.7779 | Val Loss: 0.7684 | Duration: 2.60 min\n",
      "Epoch 5 | Train Loss: 0.7540 | Val Loss: 0.7350 | Duration: 2.70 min\n",
      "Epoch 6 | Train Loss: 0.7301 | Val Loss: 0.7268 | Duration: 2.74 min\n",
      "Epoch 7 | Train Loss: 0.7070 | Val Loss: 0.7007 | Duration: 2.80 min\n",
      "Epoch 8 | Train Loss: 0.6805 | Val Loss: 0.6728 | Duration: 2.82 min\n",
      "Epoch 9 | Train Loss: 0.6557 | Val Loss: 0.6518 | Duration: 2.89 min\n",
      "Epoch 10 | Train Loss: 0.6240 | Val Loss: 0.6275 | Duration: 3.10 min\n",
      "Epoch 11 | Train Loss: 0.5931 | Val Loss: 0.6013 | Duration: 3.15 min\n",
      "Epoch 12 | Train Loss: 0.5653 | Val Loss: 0.5836 | Duration: 3.18 min\n",
      "Epoch 13 | Train Loss: 0.5393 | Val Loss: 0.5624 | Duration: 3.27 min\n",
      "Epoch 14 | Train Loss: 0.5144 | Val Loss: 0.5517 | Duration: 3.26 min\n",
      "Epoch 15 | Train Loss: 0.4841 | Val Loss: 0.5495 | Duration: 3.31 min\n",
      "Epoch 16 | Train Loss: 0.4741 | Val Loss: 0.5330 | Duration: 3.36 min\n",
      "Epoch 17 | Train Loss: 0.4517 | Val Loss: 0.5273 | Duration: 3.36 min\n",
      "Epoch 18 | Train Loss: 0.4308 | Val Loss: 0.5288 | Duration: 7.33 min\n",
      "Epoch 19 | Train Loss: 0.4229 | Val Loss: 0.5126 | Duration: 4.31 min\n",
      "Epoch 20 | Train Loss: 0.4049 | Val Loss: 0.5254 | Duration: 2.70 min\n",
      "Epoch 21 | Train Loss: 0.3913 | Val Loss: 0.5112 | Duration: 2.78 min\n",
      "Epoch 22 | Train Loss: 0.3775 | Val Loss: 0.5246 | Duration: 2.84 min\n",
      "Epoch 23 | Train Loss: 0.3651 | Val Loss: 0.5162 | Duration: 2.86 min\n",
      "Epoch 24 | Train Loss: 0.3559 | Val Loss: 0.5382 | Duration: 4.23 min\n",
      "Early stopping triggered at epoch 24\n",
      "Best model loaded with val loss: 0.5112\n"
     ]
    },
    {
     "data": {
      "image/png": "[encoded data removed]",
      "text/plain": [
       "<Figure size 640x480 with 1 Axes>"
      ]
     },
     "metadata": {},
     "output_type": "display_data"
    },
    {
     "ename": "",
     "evalue": "",
     "output_type": "error",
     "traceback": [
      "\u001b[1;31mThe Kernel crashed while executing code in the current cell or a previous cell. \n",
      "\u001b[1;31mPlease review the code in the cell(s) to identify a possible cause of the failure. \n",
      "\u001b[1;31mClick <a href='https://aka.ms/vscodeJupyterKernelCrash'>here</a> for more info. \n",
      "\u001b[1;31mView Jupyter <a href='command:jupyter.viewOutput'>log</a> for further details."
     ]
    }
   ],
   "source": [
    "# # === Early Stopping Configuration ===\n",
    "# patience = 3\n",
    "# best_val_loss = float('inf')\n",
    "# epochs_without_improvement = 0\n",
    "# best_model_state = None\n",
    "\n",
    "# # === Track losses ===\n",
    "# train_losses = []\n",
    "# val_losses = []\n",
    "\n",
    "# # === Training loop ===\n",
    "# epochs = 30  # Set higher value since early stopping is used\n",
    "# for epoch in range(epochs):\n",
    "#     start_time = time.time()\n",
    "\n",
    "#     # === TRAINING ===\n",
    "#     model.train()\n",
    "#     total_train_loss = 0\n",
    "\n",
    "#     for batch in train_loader:\n",
    "#         b_input_ids, b_attention_mask, b_labels = [t.to(device) for t in batch]\n",
    "#         model.zero_grad()\n",
    "\n",
    "#         outputs = model(b_input_ids, attention_mask=b_attention_mask, labels=b_labels)\n",
    "#         loss = outputs.loss\n",
    "\n",
    "#         # Safely detach loss for logging\n",
    "#         loss_val = loss.detach().item()\n",
    "#         total_train_loss += loss_val\n",
    "\n",
    "#         loss.backward()\n",
    "#         # Clip gradients to prevent exploding gradients\n",
    "#         torch.nn.utils.clip_grad_norm_(model.parameters(), max_norm=1.0)\n",
    "#         optimizer.step()\n",
    "\n",
    "#     avg_train_loss = total_train_loss / len(train_loader)\n",
    "#     train_losses.append(avg_train_loss)\n",
    "\n",
    "#     # === VALIDATION ===\n",
    "#     model.eval()\n",
    "#     total_val_loss = 0\n",
    "\n",
    "#     with torch.no_grad():\n",
    "#         for batch in val_loader:\n",
    "#             b_input_ids, b_attention_mask, b_labels = [t.to(device) for t in batch]\n",
    "#             outputs = model(b_input_ids, attention_mask=b_attention_mask, labels=b_labels)\n",
    "#             val_loss = outputs.loss\n",
    "#             total_val_loss += val_loss.item()\n",
    "\n",
    "#     avg_val_loss = total_val_loss / len(val_loader)\n",
    "#     val_losses.append(avg_val_loss)\n",
    "\n",
    "#     end_time = time.time()\n",
    "#     epoch_duration = (end_time - start_time) / 60\n",
    "\n",
    "#     print(f\"Epoch {epoch + 1} | Train Loss: {avg_train_loss:.4f} | Val Loss: {avg_val_loss:.4f} | Duration: {epoch_duration:.2f} min\")\n",
    "\n",
    "#     # === Early Stopping Check ===\n",
    "#     if avg_val_loss < best_val_loss:\n",
    "#         best_val_loss = avg_val_loss\n",
    "#         best_model_state = copy.deepcopy(model.state_dict())\n",
    "#         epochs_without_improvement = 0\n",
    "#     else:\n",
    "#         epochs_without_improvement += 1\n",
    "#         if epochs_without_improvement >= patience:\n",
    "#             print(f\"Early stopping triggered at epoch {epoch + 1}\")\n",
    "#             break\n",
    "\n",
    "# # === Load Best Model ===\n",
    "# if best_model_state is not None:\n",
    "#     model.load_state_dict(best_model_state)\n",
    "#     print(f\"Best model loaded with val loss: {best_val_loss:.4f}\")\n",
    "\n",
    "# # === Save Best Model ===\n",
    "# model.save_pretrained(\"./finetuned_roberta_model_3\")\n",
    "# tokenizer.save_pretrained(\"./finetuned_roberta_model_3\")\n",
    "\n",
    "# # === Plot Loss Curve ===\n",
    "# plt.plot(train_losses, label='Train Loss', marker='o')\n",
    "# plt.plot(val_losses, label='Validation Loss', marker='x')\n",
    "# plt.xlabel(\"Epoch\")\n",
    "# plt.ylabel(\"Loss\")\n",
    "# plt.legend()\n",
    "# plt.title(\"Training and Validation Loss Curve\")\n",
    "# plt.grid(True)\n",
    "# plt.show()"
   ]
  },
  {
   "cell_type": "code",
   "execution_count": 12,
   "id": "df70b0a8",
   "metadata": {},
   "outputs": [
    {
     "name": "stdout",
     "output_type": "stream",
     "text": [
      "Epoch 1 | Train Loss: 1.0334 | Val Loss: 0.8666 | Duration: 9.28 min\n",
      "Epoch 2 | Train Loss: 0.8542 | Val Loss: 0.8065 | Duration: 9.85 min\n",
      "Epoch 3 | Train Loss: 0.8059 | Val Loss: 0.7742 | Duration: 9.93 min\n",
      "Epoch 4 | Train Loss: 0.7749 | Val Loss: 0.7559 | Duration: 9.94 min\n",
      "Epoch 5 | Train Loss: 0.7472 | Val Loss: 0.7655 | Duration: 9.27 min\n",
      "🔁 Epoch 5: Overfitting counter = 1 (val_loss > train_loss)\n",
      "Epoch 6 | Train Loss: 0.7285 | Val Loss: 0.7389 | Duration: 9.27 min\n",
      "Epoch 7 | Train Loss: 0.7006 | Val Loss: 0.7059 | Duration: 9.84 min\n",
      "Epoch 8 | Train Loss: 0.6775 | Val Loss: 0.6767 | Duration: 9.27 min\n",
      "Epoch 9 | Train Loss: 0.6491 | Val Loss: 0.6511 | Duration: 9.84 min\n",
      "Epoch 10 | Train Loss: 0.6193 | Val Loss: 0.6263 | Duration: 10.81 min\n",
      "Epoch 11 | Train Loss: 0.5877 | Val Loss: 0.6054 | Duration: 9.84 min\n",
      "Epoch 12 | Train Loss: 0.5574 | Val Loss: 0.5781 | Duration: 9.93 min\n",
      "Epoch 13 | Train Loss: 0.5319 | Val Loss: 0.5584 | Duration: 9.84 min\n",
      "Epoch 14 | Train Loss: 0.5015 | Val Loss: 0.5521 | Duration: 10.85 min\n",
      "Epoch 15 | Train Loss: 0.4782 | Val Loss: 0.5407 | Duration: 10.72 min\n",
      "Epoch 16 | Train Loss: 0.4630 | Val Loss: 0.5285 | Duration: 6.30 min\n",
      "Epoch 17 | Train Loss: 0.4464 | Val Loss: 0.5260 | Duration: 4.36 min\n",
      "Epoch 18 | Train Loss: 0.4227 | Val Loss: 0.5186 | Duration: 5.63 min\n",
      "Epoch 19 | Train Loss: 0.4103 | Val Loss: 0.5159 | Duration: 9.93 min\n",
      "Epoch 20 | Train Loss: 0.3994 | Val Loss: 0.5056 | Duration: 9.84 min\n",
      "Epoch 21 | Train Loss: 0.3851 | Val Loss: 0.5340 | Duration: 9.91 min\n",
      "🔁 Epoch 21: Overfitting counter = 1 (val_loss > train_loss)\n",
      "Epoch 22 | Train Loss: 0.3719 | Val Loss: 0.5248 | Duration: 9.92 min\n",
      "🔁 Epoch 22: Overfitting counter = 2 (val_loss > train_loss)\n",
      "Epoch 23 | Train Loss: 0.3603 | Val Loss: 0.5223 | Duration: 9.92 min\n",
      "🔁 Epoch 23: Overfitting counter = 3 (val_loss > train_loss)\n",
      "🚨 Early stopping triggered due to overfitting at epoch 23\n",
      "✅ Best model saved (lowest val loss = 0.5056)\n",
      "✅ Best generalization model saved (last epoch before overfitting: 8)\n"
     ]
    },
    {
     "data": {
      "image/png": "[encoded data removed]",
      "text/plain": [
       "<Figure size 640x480 with 1 Axes>"
      ]
     },
     "metadata": {},
     "output_type": "display_data"
    }
   ],
   "source": [
    "# === Early Stopping Configuration ===\n",
    "patience = 3\n",
    "overfit_epochs = 0\n",
    "best_val_loss = float('inf')\n",
    "best_model_state = None\n",
    "\n",
    "# === Track generalization state (val_loss ≤ train_loss) ===\n",
    "best_generalization_state = None\n",
    "best_generalization_epoch = None\n",
    "\n",
    "# === Track losses ===\n",
    "train_losses = []\n",
    "val_losses = []\n",
    "\n",
    "# === Training loop ===\n",
    "epochs = 30  # Set higher value since early stopping is used\n",
    "for epoch in range(epochs):\n",
    "    start_time = time.time()\n",
    "\n",
    "    # === TRAINING ===\n",
    "    model.train()\n",
    "    total_train_loss = 0\n",
    "\n",
    "    for batch in train_loader:\n",
    "        b_input_ids, b_attention_mask, b_labels = [t.to(device) for t in batch]\n",
    "        model.zero_grad()\n",
    "\n",
    "        outputs = model(b_input_ids, attention_mask=b_attention_mask, labels=b_labels)\n",
    "        loss = outputs.loss\n",
    "\n",
    "        loss_val = loss.detach().item()\n",
    "        total_train_loss += loss_val\n",
    "\n",
    "        loss.backward()\n",
    "        torch.nn.utils.clip_grad_norm_(model.parameters(), max_norm=1.0)\n",
    "        optimizer.step()\n",
    "\n",
    "    avg_train_loss = total_train_loss / len(train_loader)\n",
    "    train_losses.append(avg_train_loss)\n",
    "\n",
    "    # === VALIDATION ===\n",
    "    model.eval()\n",
    "    total_val_loss = 0\n",
    "\n",
    "    with torch.no_grad():\n",
    "        for batch in val_loader:\n",
    "            b_input_ids, b_attention_mask, b_labels = [t.to(device) for t in batch]\n",
    "            outputs = model(b_input_ids, attention_mask=b_attention_mask, labels=b_labels)\n",
    "            val_loss = outputs.loss\n",
    "            total_val_loss += val_loss.item()\n",
    "\n",
    "    avg_val_loss = total_val_loss / len(val_loader)\n",
    "    val_losses.append(avg_val_loss)\n",
    "\n",
    "    end_time = time.time()\n",
    "    epoch_duration = (end_time - start_time) / 60\n",
    "\n",
    "    print(f\"Epoch {epoch + 1} | Train Loss: {avg_train_loss:.4f} | Val Loss: {avg_val_loss:.4f} | Duration: {epoch_duration:.2f} min\")\n",
    "\n",
    "    # === Save generalization model (last epoch before val_loss > train_loss) ===\n",
    "    if avg_val_loss <= avg_train_loss:\n",
    "        best_generalization_state = copy.deepcopy(model.state_dict())\n",
    "        best_generalization_epoch = epoch + 1\n",
    "\n",
    "    # === Save best overall model ===\n",
    "    if avg_val_loss < best_val_loss:\n",
    "        best_val_loss = avg_val_loss\n",
    "        best_model_state = copy.deepcopy(model.state_dict())\n",
    "        overfit_epochs = 0\n",
    "    else:\n",
    "        if avg_val_loss > avg_train_loss:\n",
    "            overfit_epochs += 1\n",
    "            print(f\"🔁 Epoch {epoch+1}: Overfitting counter = {overfit_epochs} (val_loss > train_loss)\")\n",
    "        else:\n",
    "            overfit_epochs = 0\n",
    "\n",
    "        if overfit_epochs >= patience:\n",
    "            print(f\"🚨 Early stopping triggered due to overfitting at epoch {epoch + 1}\")\n",
    "            break\n",
    "\n",
    "# === Load and save best overall model ===\n",
    "if best_model_state is not None:\n",
    "    model.load_state_dict(best_model_state)\n",
    "    model.save_pretrained(\"../models/finetuned_roberta_model_4_best_val_loss\")\n",
    "    tokenizer.save_pretrained(\"../models/finetuned_roberta_model_4_best_val_loss\")\n",
    "    print(f\"✅ Best model saved (lowest val loss = {best_val_loss:.4f})\")\n",
    "\n",
    "# === Save best generalization model ===\n",
    "if best_generalization_state is not None:\n",
    "    model.load_state_dict(best_generalization_state)\n",
    "    model.save_pretrained(f\"../models/finetuned_roberta_model_4_pre_overfit_epoch_{best_generalization_epoch}\")\n",
    "    tokenizer.save_pretrained(f\"../models/finetuned_roberta_model_4_pre_overfit_epoch_{best_generalization_epoch}\")\n",
    "    print(f\"✅ Best generalization model saved (last epoch before overfitting: {best_generalization_epoch})\")\n",
    "\n",
    "# === Plot Loss Curve ===\n",
    "plt.plot(train_losses, label='Train Loss', marker='o')-\n",
    "plt.plot(val_losses, label='Validation Loss', marker='x')\n",
    "plt.xlabel(\"Epoch\")\n",
    "plt.ylabel(\"Loss\")\n",
    "plt.legend()\n",
    "plt.title(\"Training and Validation Loss Curve\")\n",
    "plt.grid(True)\n",
    "plt.show()"
   ]
  }
 ],
 "metadata": {
  "kernelspec": {
   "display_name": ".venv",
   "language": "python",
   "name": "python3"
  },
  "language_info": {
   "codemirror_mode": {
    "name": "ipython",
    "version": 3
   },
   "file_extension": ".py",
   "mimetype": "text/x-python",
   "name": "python",
   "nbconvert_exporter": "python",
   "pygments_lexer": "ipython3",
   "version": "3.10.6"
  }
 },
 "nbformat": 4,
 "nbformat_minor": 5
}
